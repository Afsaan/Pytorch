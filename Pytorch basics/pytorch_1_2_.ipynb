{
  "nbformat": 4,
  "nbformat_minor": 0,
  "metadata": {
    "colab": {
      "name": "pytorch 1.2 .ipynb",
      "provenance": []
    },
    "kernelspec": {
      "name": "python3",
      "display_name": "Python 3"
    },
    "accelerator": "GPU"
  },
  "cells": [
    {
      "cell_type": "code",
      "metadata": {
        "id": "WZGFLvyoyhcs",
        "colab_type": "code",
        "colab": {}
      },
      "source": [
        "import torch"
      ],
      "execution_count": 0,
      "outputs": []
    },
    {
      "cell_type": "code",
      "metadata": {
        "id": "LeIVu5hayn5v",
        "colab_type": "code",
        "colab": {}
      },
      "source": [
        "def activation(x):\n",
        "  \"\"\" sigmoid activation function\n",
        "\n",
        "      Arguments\n",
        "      ---------\n",
        "      \n",
        "      x: torch.tensor\n",
        "  \"\"\"\n",
        "  return 1 / ( 1 + torch.exp(-x))"
      ],
      "execution_count": 0,
      "outputs": []
    },
    {
      "cell_type": "code",
      "metadata": {
        "id": "2nstvkCpSkvm",
        "colab_type": "code",
        "colab": {}
      },
      "source": [
        "torch.manual_seed(8)\n",
        "\n",
        "features = torch.randn([1,5]) \n",
        "\n",
        "weights = torch.rand_like(features)\n",
        "\n",
        "bias = torch.ones([1,1])"
      ],
      "execution_count": 0,
      "outputs": []
    },
    {
      "cell_type": "code",
      "metadata": {
        "id": "fD3PTEmzTGuf",
        "colab_type": "code",
        "colab": {}
      },
      "source": [
        "weights = torch.reshape( weights , [5,1])"
      ],
      "execution_count": 0,
      "outputs": []
    },
    {
      "cell_type": "code",
      "metadata": {
        "id": "D70i9CznTIOW",
        "colab_type": "code",
        "colab": {}
      },
      "source": [
        "# matmul using torch.sum\n",
        "output = activation(torch.sum(features * weights) + bias)"
      ],
      "execution_count": 0,
      "outputs": []
    },
    {
      "cell_type": "code",
      "metadata": {
        "id": "iPnktJtudOs3",
        "colab_type": "code",
        "colab": {}
      },
      "source": [
        "# matmul using torch.mm and torch.matmul\n",
        "ouput1 = torch.mm(features , weights) + bias)"
      ],
      "execution_count": 0,
      "outputs": []
    },
    {
      "cell_type": "code",
      "metadata": {
        "id": "thtm5_FOc8Ln",
        "colab_type": "code",
        "outputId": "0bb3ae4c-4aeb-46b1-84e1-b7cad19e49fb",
        "colab": {
          "base_uri": "https://localhost:8080/",
          "height": 34
        }
      },
      "source": [
        "activation.__doc__"
      ],
      "execution_count": 0,
      "outputs": [
        {
          "output_type": "execute_result",
          "data": {
            "text/plain": [
              "' sigmoid activation function\\n\\n      Arguments\\n      ---------\\n\\n      x: torch.tensor\\n  '"
            ]
          },
          "metadata": {
            "tags": []
          },
          "execution_count": 48
        }
      ]
    },
    {
      "cell_type": "code",
      "metadata": {
        "id": "smtd-46DVsAR",
        "colab_type": "code",
        "colab": {}
      },
      "source": [
        "# building our first neural network\n",
        "n_input = 3\n",
        "n_hidden = 2\n",
        "output = 1\n",
        "\n",
        "torch.manual_seed(1)\n",
        "\n",
        "features = torch.randn([1,3])\n",
        "\n",
        "W1 = torch.randn([n_input , n_hidden])\n",
        "W2 = torch.randn([n_hidden , output])\n",
        "\n",
        "B1 = torch.randn([1,n_hidden])\n",
        "B2 = torch.randn([1,output])"
      ],
      "execution_count": 0,
      "outputs": []
    },
    {
      "cell_type": "code",
      "metadata": {
        "id": "FHrE_yYxgOKR",
        "colab_type": "code",
        "colab": {}
      },
      "source": [
        "hidden = activation(torch.mm(features , W1) + B1)\n",
        "y = activation(torch.mm(hidden , W2) + B2)"
      ],
      "execution_count": 0,
      "outputs": []
    },
    {
      "cell_type": "code",
      "metadata": {
        "id": "A1Vi0CEhguNB",
        "colab_type": "code",
        "outputId": "2a3d6261-b947-46ff-e1e7-23fc38e3d876",
        "colab": {
          "base_uri": "https://localhost:8080/",
          "height": 34
        }
      },
      "source": [
        "y"
      ],
      "execution_count": 0,
      "outputs": [
        {
          "output_type": "execute_result",
          "data": {
            "text/plain": [
              "tensor([[0.1766]])"
            ]
          },
          "metadata": {
            "tags": []
          },
          "execution_count": 64
        }
      ]
    },
    {
      "cell_type": "markdown",
      "metadata": {
        "id": "ioU5Ue8ikr1A",
        "colab_type": "text"
      },
      "source": [
        "**NUMPY TO TORCH AND BACK**"
      ]
    },
    {
      "cell_type": "code",
      "metadata": {
        "id": "eL6QweEtjHVJ",
        "colab_type": "code",
        "outputId": "c0027fde-3b7d-4991-e829-b92676774af2",
        "colab": {
          "base_uri": "https://localhost:8080/",
          "height": 51
        }
      },
      "source": [
        "import numpy as np\n",
        "array = np.random.randn(2,3)\n",
        "array"
      ],
      "execution_count": 0,
      "outputs": [
        {
          "output_type": "execute_result",
          "data": {
            "text/plain": [
              "array([[ 1.13900235,  0.81429053,  0.5293066 ],\n",
              "       [ 0.90081776, -1.40208984,  0.87078187]])"
            ]
          },
          "metadata": {
            "tags": []
          },
          "execution_count": 73
        }
      ]
    },
    {
      "cell_type": "code",
      "metadata": {
        "id": "Y4EOkBJ2lJ37",
        "colab_type": "code",
        "outputId": "e9dc73a0-ce67-4e6b-a67b-5fbb3968ebad",
        "colab": {
          "base_uri": "https://localhost:8080/",
          "height": 51
        }
      },
      "source": [
        "b =torch.from_numpy(array)\n",
        "b"
      ],
      "execution_count": 0,
      "outputs": [
        {
          "output_type": "execute_result",
          "data": {
            "text/plain": [
              "tensor([[ 1.1390,  0.8143,  0.5293],\n",
              "        [ 0.9008, -1.4021,  0.8708]], dtype=torch.float64)"
            ]
          },
          "metadata": {
            "tags": []
          },
          "execution_count": 74
        }
      ]
    },
    {
      "cell_type": "code",
      "metadata": {
        "id": "YIfg_0eBlOfA",
        "colab_type": "code",
        "outputId": "6d195c8d-239a-4f0f-e56c-9d4ab5243e47",
        "colab": {
          "base_uri": "https://localhost:8080/",
          "height": 51
        }
      },
      "source": [
        "# back to numpy\n",
        "b.numpy()"
      ],
      "execution_count": 0,
      "outputs": [
        {
          "output_type": "execute_result",
          "data": {
            "text/plain": [
              "array([[ 1.13900235,  0.81429053,  0.5293066 ],\n",
              "       [ 0.90081776, -1.40208984,  0.87078187]])"
            ]
          },
          "metadata": {
            "tags": []
          },
          "execution_count": 75
        }
      ]
    }
  ]
}