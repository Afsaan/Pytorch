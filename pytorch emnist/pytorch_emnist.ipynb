{
  "nbformat": 4,
  "nbformat_minor": 0,
  "metadata": {
    "colab": {
      "name": "pytorch_emnist.ipynb",
      "provenance": []
    },
    "kernelspec": {
      "name": "python3",
      "display_name": "Python 3"
    },
    "accelerator": "GPU",
    "widgets": {
      "application/vnd.jupyter.widget-state+json": {
        "62cc23d3acd14cc98e0a61606598801f": {
          "model_module": "@jupyter-widgets/controls",
          "model_name": "HBoxModel",
          "state": {
            "_view_name": "HBoxView",
            "_dom_classes": [],
            "_model_name": "HBoxModel",
            "_view_module": "@jupyter-widgets/controls",
            "_model_module_version": "1.5.0",
            "_view_count": null,
            "_view_module_version": "1.5.0",
            "box_style": "",
            "layout": "IPY_MODEL_cffab42188e04eae899391c8955326fa",
            "_model_module": "@jupyter-widgets/controls",
            "children": [
              "IPY_MODEL_28a97ef802e244f78359bdf8e7a19b45",
              "IPY_MODEL_964ed0e584254a45ab82bb8db5063c7a"
            ]
          }
        },
        "cffab42188e04eae899391c8955326fa": {
          "model_module": "@jupyter-widgets/base",
          "model_name": "LayoutModel",
          "state": {
            "_view_name": "LayoutView",
            "grid_template_rows": null,
            "right": null,
            "justify_content": null,
            "_view_module": "@jupyter-widgets/base",
            "overflow": null,
            "_model_module_version": "1.2.0",
            "_view_count": null,
            "flex_flow": null,
            "width": null,
            "min_width": null,
            "border": null,
            "align_items": null,
            "bottom": null,
            "_model_module": "@jupyter-widgets/base",
            "top": null,
            "grid_column": null,
            "overflow_y": null,
            "overflow_x": null,
            "grid_auto_flow": null,
            "grid_area": null,
            "grid_template_columns": null,
            "flex": null,
            "_model_name": "LayoutModel",
            "justify_items": null,
            "grid_row": null,
            "max_height": null,
            "align_content": null,
            "visibility": null,
            "align_self": null,
            "height": null,
            "min_height": null,
            "padding": null,
            "grid_auto_rows": null,
            "grid_gap": null,
            "max_width": null,
            "order": null,
            "_view_module_version": "1.2.0",
            "grid_template_areas": null,
            "object_position": null,
            "object_fit": null,
            "grid_auto_columns": null,
            "margin": null,
            "display": null,
            "left": null
          }
        },
        "28a97ef802e244f78359bdf8e7a19b45": {
          "model_module": "@jupyter-widgets/controls",
          "model_name": "IntProgressModel",
          "state": {
            "_view_name": "ProgressView",
            "style": "IPY_MODEL_e4260f9806f2426180e8c3306e68064f",
            "_dom_classes": [],
            "description": "",
            "_model_name": "IntProgressModel",
            "bar_style": "info",
            "max": 1,
            "_view_module": "@jupyter-widgets/controls",
            "_model_module_version": "1.5.0",
            "value": 1,
            "_view_count": null,
            "_view_module_version": "1.5.0",
            "orientation": "horizontal",
            "min": 0,
            "description_tooltip": null,
            "_model_module": "@jupyter-widgets/controls",
            "layout": "IPY_MODEL_4c62598620b44c7babc09e857c7e9152"
          }
        },
        "964ed0e584254a45ab82bb8db5063c7a": {
          "model_module": "@jupyter-widgets/controls",
          "model_name": "HTMLModel",
          "state": {
            "_view_name": "HTMLView",
            "style": "IPY_MODEL_b5fc5659f01749ba8e2c15e2a171e23e",
            "_dom_classes": [],
            "description": "",
            "_model_name": "HTMLModel",
            "placeholder": "​",
            "_view_module": "@jupyter-widgets/controls",
            "_model_module_version": "1.5.0",
            "value": "561758208it [00:30, 63164082.98it/s]",
            "_view_count": null,
            "_view_module_version": "1.5.0",
            "description_tooltip": null,
            "_model_module": "@jupyter-widgets/controls",
            "layout": "IPY_MODEL_ccb8d670d75a4f279e2796e579d8461f"
          }
        },
        "e4260f9806f2426180e8c3306e68064f": {
          "model_module": "@jupyter-widgets/controls",
          "model_name": "ProgressStyleModel",
          "state": {
            "_view_name": "StyleView",
            "_model_name": "ProgressStyleModel",
            "description_width": "",
            "_view_module": "@jupyter-widgets/base",
            "_model_module_version": "1.5.0",
            "_view_count": null,
            "_view_module_version": "1.2.0",
            "bar_color": null,
            "_model_module": "@jupyter-widgets/controls"
          }
        },
        "4c62598620b44c7babc09e857c7e9152": {
          "model_module": "@jupyter-widgets/base",
          "model_name": "LayoutModel",
          "state": {
            "_view_name": "LayoutView",
            "grid_template_rows": null,
            "right": null,
            "justify_content": null,
            "_view_module": "@jupyter-widgets/base",
            "overflow": null,
            "_model_module_version": "1.2.0",
            "_view_count": null,
            "flex_flow": null,
            "width": null,
            "min_width": null,
            "border": null,
            "align_items": null,
            "bottom": null,
            "_model_module": "@jupyter-widgets/base",
            "top": null,
            "grid_column": null,
            "overflow_y": null,
            "overflow_x": null,
            "grid_auto_flow": null,
            "grid_area": null,
            "grid_template_columns": null,
            "flex": null,
            "_model_name": "LayoutModel",
            "justify_items": null,
            "grid_row": null,
            "max_height": null,
            "align_content": null,
            "visibility": null,
            "align_self": null,
            "height": null,
            "min_height": null,
            "padding": null,
            "grid_auto_rows": null,
            "grid_gap": null,
            "max_width": null,
            "order": null,
            "_view_module_version": "1.2.0",
            "grid_template_areas": null,
            "object_position": null,
            "object_fit": null,
            "grid_auto_columns": null,
            "margin": null,
            "display": null,
            "left": null
          }
        },
        "b5fc5659f01749ba8e2c15e2a171e23e": {
          "model_module": "@jupyter-widgets/controls",
          "model_name": "DescriptionStyleModel",
          "state": {
            "_view_name": "StyleView",
            "_model_name": "DescriptionStyleModel",
            "description_width": "",
            "_view_module": "@jupyter-widgets/base",
            "_model_module_version": "1.5.0",
            "_view_count": null,
            "_view_module_version": "1.2.0",
            "_model_module": "@jupyter-widgets/controls"
          }
        },
        "ccb8d670d75a4f279e2796e579d8461f": {
          "model_module": "@jupyter-widgets/base",
          "model_name": "LayoutModel",
          "state": {
            "_view_name": "LayoutView",
            "grid_template_rows": null,
            "right": null,
            "justify_content": null,
            "_view_module": "@jupyter-widgets/base",
            "overflow": null,
            "_model_module_version": "1.2.0",
            "_view_count": null,
            "flex_flow": null,
            "width": null,
            "min_width": null,
            "border": null,
            "align_items": null,
            "bottom": null,
            "_model_module": "@jupyter-widgets/base",
            "top": null,
            "grid_column": null,
            "overflow_y": null,
            "overflow_x": null,
            "grid_auto_flow": null,
            "grid_area": null,
            "grid_template_columns": null,
            "flex": null,
            "_model_name": "LayoutModel",
            "justify_items": null,
            "grid_row": null,
            "max_height": null,
            "align_content": null,
            "visibility": null,
            "align_self": null,
            "height": null,
            "min_height": null,
            "padding": null,
            "grid_auto_rows": null,
            "grid_gap": null,
            "max_width": null,
            "order": null,
            "_view_module_version": "1.2.0",
            "grid_template_areas": null,
            "object_position": null,
            "object_fit": null,
            "grid_auto_columns": null,
            "margin": null,
            "display": null,
            "left": null
          }
        }
      }
    }
  },
  "cells": [
    {
      "cell_type": "code",
      "metadata": {
        "id": "hV23OtGRnHGP",
        "colab_type": "code",
        "colab": {}
      },
      "source": [
        "import torch\n",
        "from torch import nn\n",
        "import torch.nn.functional as F\n",
        "import numpy as np\n",
        "from torchvision import datasets, transforms"
      ],
      "execution_count": 0,
      "outputs": []
    },
    {
      "cell_type": "code",
      "metadata": {
        "id": "LUZS_f9ooooK",
        "colab_type": "code",
        "outputId": "c489d142-6b08-43c9-bb21-9688c570404e",
        "colab": {
          "base_uri": "https://localhost:8080/",
          "height": 219,
          "referenced_widgets": [
            "62cc23d3acd14cc98e0a61606598801f",
            "cffab42188e04eae899391c8955326fa",
            "28a97ef802e244f78359bdf8e7a19b45",
            "964ed0e584254a45ab82bb8db5063c7a",
            "e4260f9806f2426180e8c3306e68064f",
            "4c62598620b44c7babc09e857c7e9152",
            "b5fc5659f01749ba8e2c15e2a171e23e",
            "ccb8d670d75a4f279e2796e579d8461f"
          ]
        }
      },
      "source": [
        "transform = transforms.Compose([transforms.ToTensor()])\n",
        "trainloader = datasets.EMNIST(\"emnist/\" , split = 'byclass' , download = True , transform = transform , train = True)\n",
        "testloader = datasets.EMNIST(\"emnist/\" , split = 'byclass' , download = True , transform = transform , train = False)"
      ],
      "execution_count": 0,
      "outputs": [
        {
          "output_type": "stream",
          "text": [
            "Downloading and extracting zip archive\n",
            "Downloading http://www.itl.nist.gov/iaui/vip/cs_links/EMNIST/gzip.zip to emnist/EMNIST/raw/emnist.zip\n"
          ],
          "name": "stdout"
        },
        {
          "output_type": "display_data",
          "data": {
            "application/vnd.jupyter.widget-view+json": {
              "model_id": "62cc23d3acd14cc98e0a61606598801f",
              "version_minor": 0,
              "version_major": 2
            },
            "text/plain": [
              "HBox(children=(IntProgress(value=1, bar_style='info', max=1), HTML(value='')))"
            ]
          },
          "metadata": {
            "tags": []
          }
        },
        {
          "output_type": "stream",
          "text": [
            "Extracting emnist/EMNIST/raw/emnist.zip to emnist/EMNIST/raw\n",
            "Processing byclass\n",
            "Processing bymerge\n",
            "Processing balanced\n",
            "Processing letters\n",
            "Processing digits\n",
            "Processing mnist\n",
            "Done!\n"
          ],
          "name": "stdout"
        }
      ]
    },
    {
      "cell_type": "code",
      "metadata": {
        "id": "-sjUMfz7qbw4",
        "colab_type": "code",
        "colab": {}
      },
      "source": [
        "batch_size = 256\n",
        "lr = 1e-3\n",
        "momentum=0.9"
      ],
      "execution_count": 0,
      "outputs": []
    },
    {
      "cell_type": "code",
      "metadata": {
        "id": "EAFEzoNVp7iN",
        "colab_type": "code",
        "colab": {}
      },
      "source": [
        "train_data = torch.utils.data.DataLoader(trainloader , shuffle = True , batch_size = batch_size )\n",
        "test_data = torch.utils.data.DataLoader(testloader , shuffle = True , batch_size = batch_size)"
      ],
      "execution_count": 0,
      "outputs": []
    },
    {
      "cell_type": "code",
      "metadata": {
        "id": "Ubor6iFpqsGj",
        "colab_type": "code",
        "colab": {}
      },
      "source": [
        "train_iter = iter(train_data)\n",
        "images , labels = train_iter.next()"
      ],
      "execution_count": 0,
      "outputs": []
    },
    {
      "cell_type": "code",
      "metadata": {
        "id": "V0Wx37Rjq5Pq",
        "colab_type": "code",
        "outputId": "a6e488f4-8a7c-4205-b6a8-938e28dc33ff",
        "colab": {
          "base_uri": "https://localhost:8080/",
          "height": 34
        }
      },
      "source": [
        "images.shape , labels.shape"
      ],
      "execution_count": 0,
      "outputs": [
        {
          "output_type": "execute_result",
          "data": {
            "text/plain": [
              "(torch.Size([256, 1, 28, 28]), torch.Size([256]))"
            ]
          },
          "metadata": {
            "tags": []
          },
          "execution_count": 6
        }
      ]
    },
    {
      "cell_type": "code",
      "metadata": {
        "id": "pr17xH9rq9Hw",
        "colab_type": "code",
        "colab": {}
      },
      "source": [
        "value = ['0','1','2','3','4','5','6','7','8','9','A','B','C','D','E','F','G','H','I','J','K','L','M','N','O','P','Q','R','S',\n",
        "        'T','U','V','W','X','Y','Z','a','b','c','d','e','f','g','h','i','j','k','l','m','n','o','p','q','r','s','t','u','v','w','x','z']"
      ],
      "execution_count": 0,
      "outputs": []
    },
    {
      "cell_type": "code",
      "metadata": {
        "id": "W_QdhUTcrk38",
        "colab_type": "code",
        "colab": {}
      },
      "source": [
        "# defining the architecture\n",
        "def init_weights(m):\n",
        "    if type(m) == nn.Linear:\n",
        "        torch.nn.init.xavier_uniform_(m.weight)\n",
        "        m.bias.data.fill_(0.01)\n",
        "\n",
        "class emnist(nn.Module):\n",
        "  def __init__(self):\n",
        "    super().__init__()\n",
        "\n",
        "    self.conv1 = nn.Conv2d(1 , 32 , 5 , 1)\n",
        "    self.max1 = nn.MaxPool2d(2,2)\n",
        "    self.conv2 = nn.Conv2d(32 , 64 , 5 , 1)\n",
        "    self.max2 = nn.MaxPool2d(2,2)\n",
        "\n",
        "    self.fc1 = nn.Linear(4*4*64 , 200)\n",
        "    self.fc2 = nn.Linear(200 , 170)\n",
        "    self.fc3 = nn.Linear(170 , 150)\n",
        "    self.fc4 = nn.Linear(150 , 120)\n",
        "    self.output = nn.Linear(120 , 62)\n",
        "\n",
        "  def forward(self , x):\n",
        "\n",
        "    x = F.relu(self.conv1(x))\n",
        "    x = self.max1(x)\n",
        "    x = F.relu(self.conv2(x))\n",
        "    x = self.max2(x)\n",
        "\n",
        "    #flatting\n",
        "    x = x.view(-1 , 4*4*64)\n",
        "\n",
        "    x = F.relu(self.fc1(x))\n",
        "    x = F.relu(self.fc2(x))\n",
        "    x = F.relu(self.fc3(x))\n",
        "    x = F.relu(self.fc4(x))\n",
        "    x = self.output(x)\n",
        "\n",
        "    return x"
      ],
      "execution_count": 0,
      "outputs": []
    },
    {
      "cell_type": "code",
      "metadata": {
        "id": "JXMGkGTUuzRQ",
        "colab_type": "code",
        "colab": {}
      },
      "source": [
        "model = emnist()\n",
        "model.apply(init_weights)\n",
        "model.cuda()\n",
        "criterion = nn.CrossEntropyLoss()\n",
        "optimizer = torch.optim.Adam(model.parameters() , lr = lr )"
      ],
      "execution_count": 0,
      "outputs": []
    },
    {
      "cell_type": "code",
      "metadata": {
        "id": "QY9PHO4Uu1dw",
        "colab_type": "code",
        "outputId": "ccdd952a-0318-4a47-84bf-501be0f9f740",
        "colab": {
          "base_uri": "https://localhost:8080/",
          "height": 357
        }
      },
      "source": [
        "epochs = 20\n",
        "train_losses , test_losses = [] , []\n",
        "for e in range(epochs):\n",
        "  running_loss = 0\n",
        "  for images , labels in train_data:\n",
        "    images, labels = images.cuda(), labels.cuda()\n",
        "    optimizer.zero_grad()\n",
        "    logits = model(images)\n",
        "    loss = criterion(logits , labels)\n",
        "    \n",
        "    loss.backward()\n",
        "    optimizer.step()\n",
        "    running_loss += loss.item()\n",
        "\n",
        "  else:\n",
        "    test_loss = 0\n",
        "    total = 0\n",
        "    correct = 0\n",
        "\n",
        "    with torch.no_grad():\n",
        "      model.eval()\n",
        "      for images , labels in test_data:\n",
        "        images, labels = images.cuda(), labels.cuda()\n",
        "        logits_test = model(images)\n",
        "        test_loss += criterion(logits_test , labels)\n",
        "        ps = torch.exp(logits_test)\n",
        "        _, predicted = ps.max(1)\n",
        "        total += labels.size(0)\n",
        "        correct += predicted.eq(labels).sum().item()\n",
        "\n",
        "    model.train()\n",
        "    train_losses.append(running_loss/len(trainloader))\n",
        "    test_losses.append(test_loss/len(testloader))\n",
        "\n",
        "    print(\"epochs {}/{}\" .format(e+1 , epochs),\n",
        "              \"training loss: {:.3f}..\".format(running_loss/len(train_data)),\n",
        "              \"test loss: {:.3f}..\".format(test_loss/len(test_data)),\n",
        "              \"test Accuracy: {:.3f}..\".format(correct/total))"
      ],
      "execution_count": 0,
      "outputs": [
        {
          "output_type": "stream",
          "text": [
            "epochs 1/20 training loss: 0.558.. test loss: 0.417.. test Accuracy: 0.848..\n",
            "epochs 2/20 training loss: 0.393.. test loss: 0.381.. test Accuracy: 0.860..\n",
            "epochs 3/20 training loss: 0.370.. test loss: 0.371.. test Accuracy: 0.863..\n",
            "epochs 4/20 training loss: 0.356.. test loss: 0.361.. test Accuracy: 0.866..\n",
            "epochs 5/20 training loss: 0.344.. test loss: 0.357.. test Accuracy: 0.868..\n",
            "epochs 6/20 training loss: 0.335.. test loss: 0.360.. test Accuracy: 0.865..\n",
            "epochs 7/20 training loss: 0.328.. test loss: 0.360.. test Accuracy: 0.866..\n",
            "epochs 8/20 training loss: 0.321.. test loss: 0.358.. test Accuracy: 0.868..\n",
            "epochs 9/20 training loss: 0.316.. test loss: 0.360.. test Accuracy: 0.868..\n",
            "epochs 10/20 training loss: 0.310.. test loss: 0.358.. test Accuracy: 0.869..\n",
            "epochs 11/20 training loss: 0.306.. test loss: 0.363.. test Accuracy: 0.867..\n",
            "epochs 12/20 training loss: 0.302.. test loss: 0.362.. test Accuracy: 0.868..\n",
            "epochs 13/20 training loss: 0.298.. test loss: 0.364.. test Accuracy: 0.870..\n",
            "epochs 14/20 training loss: 0.294.. test loss: 0.372.. test Accuracy: 0.867..\n",
            "epochs 15/20 training loss: 0.291.. test loss: 0.374.. test Accuracy: 0.869..\n",
            "epochs 16/20 training loss: 0.288.. test loss: 0.378.. test Accuracy: 0.868..\n",
            "epochs 17/20 training loss: 0.285.. test loss: 0.377.. test Accuracy: 0.869..\n",
            "epochs 18/20 training loss: 0.282.. test loss: 0.384.. test Accuracy: 0.867..\n",
            "epochs 19/20 training loss: 0.280.. test loss: 0.387.. test Accuracy: 0.868..\n",
            "epochs 20/20 training loss: 0.278.. test loss: 0.388.. test Accuracy: 0.866..\n"
          ],
          "name": "stdout"
        }
      ]
    },
    {
      "cell_type": "code",
      "metadata": {
        "id": "KV668FJ0xNkW",
        "colab_type": "code",
        "colab": {}
      },
      "source": [
        "test_iter = iter(test_data)\n",
        "images , labels = test_iter.next()"
      ],
      "execution_count": 0,
      "outputs": []
    },
    {
      "cell_type": "code",
      "metadata": {
        "id": "7Jfxe8uqFXE5",
        "colab_type": "code",
        "outputId": "41317a7c-005b-4efa-e874-496caa0fbb60",
        "colab": {
          "base_uri": "https://localhost:8080/",
          "height": 34
        }
      },
      "source": [
        "images.shape"
      ],
      "execution_count": 0,
      "outputs": [
        {
          "output_type": "execute_result",
          "data": {
            "text/plain": [
              "torch.Size([256, 1, 28, 28])"
            ]
          },
          "metadata": {
            "tags": []
          },
          "execution_count": 24
        }
      ]
    },
    {
      "cell_type": "code",
      "metadata": {
        "id": "y1qTNWlOFibN",
        "colab_type": "code",
        "outputId": "a8a09a87-cda4-43e7-cf2c-cca916847eb0",
        "colab": {
          "base_uri": "https://localhost:8080/",
          "height": 282
        }
      },
      "source": [
        "import matplotlib.pyplot as plt\n",
        "\n",
        "plt.imshow( images[101].reshape(28,28))"
      ],
      "execution_count": 0,
      "outputs": [
        {
          "output_type": "execute_result",
          "data": {
            "text/plain": [
              "<matplotlib.image.AxesImage at 0x7fa72dea2c88>"
            ]
          },
          "metadata": {
            "tags": []
          },
          "execution_count": 54
        },
        {
          "output_type": "display_data",
          "data": {
            "image/png": "[encoded data removed]",
            "text/plain": [
              "<Figure size 432x288 with 1 Axes>"
            ]
          },
          "metadata": {
            "tags": []
          }
        }
      ]
    },
    {
      "cell_type": "code",
      "metadata": {
        "id": "NJEYmmEuDozw",
        "colab_type": "code",
        "outputId": "f5634de8-ddd4-482d-f16c-793778fea0e6",
        "colab": {
          "base_uri": "https://localhost:8080/",
          "height": 34
        }
      },
      "source": [
        "images.shape"
      ],
      "execution_count": 0,
      "outputs": [
        {
          "output_type": "execute_result",
          "data": {
            "text/plain": [
              "torch.Size([256, 1, 28, 28])"
            ]
          },
          "metadata": {
            "tags": []
          },
          "execution_count": 14
        }
      ]
    },
    {
      "cell_type": "code",
      "metadata": {
        "id": "YcAV2PkkFwRo",
        "colab_type": "code",
        "outputId": "4c96e9e0-d882-4231-f4f2-4d13494f64da",
        "colab": {
          "base_uri": "https://localhost:8080/",
          "height": 34
        }
      },
      "source": [
        "model.eval()\n",
        "with torch.no_grad():\n",
        "  images = images.cuda()\n",
        "  out = model(images[101].reshape(1,1,28,28))\n",
        "  _ , h = out.max(1)\n",
        "value[h]"
      ],
      "execution_count": 0,
      "outputs": [
        {
          "output_type": "execute_result",
          "data": {
            "text/plain": [
              "'t'"
            ]
          },
          "metadata": {
            "tags": []
          },
          "execution_count": 55
        }
      ]
    },
    {
      "cell_type": "code",
      "metadata": {
        "id": "JedB6w_sChLy",
        "colab_type": "code",
        "outputId": "43496607-1091-4a0e-c18a-31eb6b1b4e98",
        "colab": {
          "base_uri": "https://localhost:8080/",
          "height": 34
        }
      },
      "source": [
        ""
      ],
      "execution_count": 0,
      "outputs": [
        {
          "output_type": "execute_result",
          "data": {
            "text/plain": [
              "'3'"
            ]
          },
          "metadata": {
            "tags": []
          },
          "execution_count": 23
        }
      ]
    },
    {
      "cell_type": "code",
      "metadata": {
        "id": "RQJ2n6w-E_U2",
        "colab_type": "code",
        "outputId": "946da87c-28d1-488b-a7cc-e031bebab70e",
        "colab": {
          "base_uri": "https://localhost:8080/",
          "height": 122
        }
      },
      "source": [
        "from google.colab import drive\n",
        "drive.mount('/content/drive')"
      ],
      "execution_count": 0,
      "outputs": [
        {
          "output_type": "stream",
          "text": [
            "Go to this URL in a browser: https://accounts.google.com/o/oauth2/auth?client_id=947318989803-6bn6qk8qdgf4n4g3pfee6491hc0brc4i.apps.googleusercontent.com&redirect_uri=urn%3aietf%3awg%3aoauth%3a2.0%3aoob&response_type=code&scope=email%20https%3a%2f%2fwww.googleapis.com%2fauth%2fdocs.test%20https%3a%2f%2fwww.googleapis.com%2fauth%2fdrive%20https%3a%2f%2fwww.googleapis.com%2fauth%2fdrive.photos.readonly%20https%3a%2f%2fwww.googleapis.com%2fauth%2fpeopleapi.readonly\n",
            "\n",
            "Enter your authorization code:\n",
            "··········\n",
            "Mounted at /content/drive\n"
          ],
          "name": "stdout"
        }
      ]
    },
    {
      "cell_type": "code",
      "metadata": {
        "id": "njCoYIYcFEll",
        "colab_type": "code",
        "outputId": "e3d1ee91-068f-4d45-ce55-adca3de602a2",
        "colab": {
          "base_uri": "https://localhost:8080/",
          "height": 71
        }
      },
      "source": [
        "torch.save(model , '/content/drive/My Drive/Model files/emnist_model_1.pth')"
      ],
      "execution_count": 0,
      "outputs": [
        {
          "output_type": "stream",
          "text": [
            "/usr/local/lib/python3.6/dist-packages/torch/serialization.py:360: UserWarning: Couldn't retrieve source code for container of type emnist. It won't be checked for correctness upon loading.\n",
            "  \"type \" + obj.__name__ + \". It won't be checked \"\n"
          ],
          "name": "stderr"
        }
      ]
    },
    {
      "cell_type": "code",
      "metadata": {
        "id": "ImvayNQVFotP",
        "colab_type": "code",
        "colab": {}
      },
      "source": [
        "model_1 = torch.load('/content/drive/My Drive/Model files/emnist_model.pth' , m)"
      ],
      "execution_count": 0,
      "outputs": []
    },
    {
      "cell_type": "code",
      "metadata": {
        "id": "3u_7yPRxGPc4",
        "colab_type": "code",
        "colab": {}
      },
      "source": [
        "model_1.eval()\n",
        "with torch.no_grad():\n",
        "  out = model(images[12].reshape(1,1,28,28))\n",
        "  _ , h = out.max(1)"
      ],
      "execution_count": 0,
      "outputs": []
    },
    {
      "cell_type": "code",
      "metadata": {
        "id": "9rrNosaIGYcy",
        "colab_type": "code",
        "outputId": "cc7e13bd-716b-43a1-f621-0d4ae4524bd6",
        "colab": {
          "base_uri": "https://localhost:8080/",
          "height": 34
        }
      },
      "source": [
        "value[h]"
      ],
      "execution_count": 0,
      "outputs": [
        {
          "output_type": "execute_result",
          "data": {
            "text/plain": [
              "'x'"
            ]
          },
          "metadata": {
            "tags": []
          },
          "execution_count": 79
        }
      ]
    },
    {
      "cell_type": "code",
      "metadata": {
        "id": "fqIEzURWGmLw",
        "colab_type": "code",
        "colab": {}
      },
      "source": [
        ""
      ],
      "execution_count": 0,
      "outputs": []
    }
  ]
}