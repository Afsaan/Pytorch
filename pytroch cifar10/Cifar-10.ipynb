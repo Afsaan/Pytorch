{
  "nbformat": 4,
  "nbformat_minor": 0,
  "metadata": {
    "colab": {
      "name": "Pytorch_CIFAR_CNN.ipynb",
      "provenance": []
    },
    "kernelspec": {
      "name": "python3",
      "display_name": "Python 3"
    },
    "accelerator": "GPU"
  },
  "cells": [
    {
      "cell_type": "code",
      "metadata": {
        "id": "6ylmEtTNgjwc",
        "colab_type": "code",
        "colab": {}
      },
      "source": [
        "# importing important libraries\n",
        "import numpy as np\n",
        "import torch \n",
        "from torch import nn\n",
        "from torchvision import datasets , transforms , models\n",
        "import torch.nn.functional as F\n",
        "import torchvision\n",
        "from torch import optim\n",
        "\n",
        "#visualisation library\n",
        "import matplotlib.pyplot as plt\n",
        "\n",
        "#shifting to cuda if available\n",
        "train_on_gpu = torch.cuda.is_available()"
      ],
      "execution_count": 48,
      "outputs": []
    },
    {
      "cell_type": "code",
      "metadata": {
        "id": "AirXoqYEjq86",
        "colab_type": "code",
        "colab": {}
      },
      "source": [
        "batch_size = 64"
      ],
      "execution_count": 28,
      "outputs": []
    },
    {
      "cell_type": "code",
      "metadata": {
        "id": "xNVznC0ug1Jj",
        "colab_type": "code",
        "colab": {
          "base_uri": "https://localhost:8080/",
          "height": 51
        },
        "outputId": "b84a9957-b0a9-4a63-e086-272cc598fa3a"
      },
      "source": [
        "\n",
        "transform = transforms.Compose([transforms.ToTensor() , transforms.Normalize((0.5,0.5,0.5) , (0.5,0.5,0.5)) ])\n",
        "\n",
        "\n",
        "trainloader = datasets.CIFAR10('model/' , train = True , download=True , transform= transform)\n",
        "testloader = datasets.CIFAR10('model/' , train = False , download= True , transform= transform)"
      ],
      "execution_count": 29,
      "outputs": [
        {
          "output_type": "stream",
          "text": [
            "Files already downloaded and verified\n",
            "Files already downloaded and verified\n"
          ],
          "name": "stdout"
        }
      ]
    },
    {
      "cell_type": "code",
      "metadata": {
        "id": "5OxZV1Mfhy7R",
        "colab_type": "code",
        "colab": {}
      },
      "source": [
        "train_data = torch.utils.data.DataLoader(trainloader , shuffle = True , batch_size = batch_size )\n",
        "test_data = torch.utils.data.DataLoader(testloader , shuffle = True , batch_size = batch_size )"
      ],
      "execution_count": 30,
      "outputs": []
    },
    {
      "cell_type": "code",
      "metadata": {
        "id": "q1AFd8Osj79F",
        "colab_type": "code",
        "colab": {}
      },
      "source": [
        "trainiter = iter(train_data)\n",
        "train_images , train_labels = trainiter.next()\n",
        "\n",
        "testiter = iter(test_data)\n",
        "test_images, test_labels = testiter.next()"
      ],
      "execution_count": 31,
      "outputs": []
    },
    {
      "cell_type": "code",
      "metadata": {
        "id": "1XYIl5UM7rk9",
        "colab_type": "code",
        "colab": {}
      },
      "source": [
        "#classes\n",
        "classes = ('plane', 'car', 'bird', 'cat',\n",
        "           'deer', 'dog', 'frog', 'horse', 'ship', 'truck')"
      ],
      "execution_count": 32,
      "outputs": []
    },
    {
      "cell_type": "code",
      "metadata": {
        "id": "d6Rh86rMk6bs",
        "colab_type": "code",
        "colab": {
          "base_uri": "https://localhost:8080/",
          "height": 34
        },
        "outputId": "4f0ff483-aef7-4a50-95df-bbbe766950f5"
      },
      "source": [
        "# shape of train_images and train_labels\n",
        "train_images.shape , test_labels.shape"
      ],
      "execution_count": 33,
      "outputs": [
        {
          "output_type": "execute_result",
          "data": {
            "text/plain": [
              "(torch.Size([64, 3, 32, 32]), torch.Size([64]))"
            ]
          },
          "metadata": {
            "tags": []
          },
          "execution_count": 33
        }
      ]
    },
    {
      "cell_type": "code",
      "metadata": {
        "id": "sd9GLNSpk9ar",
        "colab_type": "code",
        "colab": {
          "base_uri": "https://localhost:8080/",
          "height": 170
        },
        "outputId": "625c9ba0-50f2-408f-fa4b-4aced42291f3"
      },
      "source": [
        "#define the model\n",
        "def init_weights(m):\n",
        "    if type(m) == nn.Linear:\n",
        "        torch.nn.init.xavier_uniform_(m.weight)\n",
        "        m.bias.data.fill_(0.01)\n",
        "\n",
        "class Net(nn.Module):\n",
        "    def __init__(self):\n",
        "        super(Net, self).__init__()\n",
        "        # convolutional layer (sees 32x32x3 image tensor)\n",
        "        self.conv1 = nn.Conv2d(3, 16, 3, padding=1)\n",
        "        # convolutional layer (sees 16x16x16 tensor)\n",
        "        self.conv2 = nn.Conv2d(16, 32, 3, padding=1)\n",
        "        # convolutional layer (sees 8x8x32 tensor)\n",
        "        self.conv3 = nn.Conv2d(32, 64, 3, padding=1)\n",
        "        # max pooling layer\n",
        "        self.pool = nn.MaxPool2d(2, 2)\n",
        "        # linear layer (64 * 4 * 4 -> 500)\n",
        "        self.fc1 = nn.Linear(64 * 4 * 4, 500)\n",
        "        # linear layer (500 -> 10)\n",
        "        self.fc2 = nn.Linear(500, 10)\n",
        "        # dropout layer (p=0.25)\n",
        "        self.dropout = nn.Dropout(0.25)\n",
        "\n",
        "    def forward(self, x):\n",
        "        # add sequence of convolutional and max pooling layers\n",
        "        x = self.pool(F.relu(self.conv1(x)))\n",
        "        x = self.pool(F.relu(self.conv2(x)))\n",
        "        x = self.pool(F.relu(self.conv3(x)))\n",
        "        # flatten image input\n",
        "        x = x.view(-1, 64 * 4 * 4)\n",
        "        # add dropout layer\n",
        "        x = self.dropout(x)\n",
        "        # add 1st hidden layer, with relu activation function\n",
        "        x = F.relu(self.fc1(x))\n",
        "        # add dropout layer\n",
        "        x = self.dropout(x)\n",
        "        # add 2nd hidden layer, with relu activation function\n",
        "        x = self.fc2(x)\n",
        "        return x\n",
        "\n",
        "# create a complete CNN\n",
        "model = Net()\n",
        "print(model)\n",
        "\n",
        "# move tensors to GPU if CUDA is available\n",
        "if train_on_gpu:\n",
        "    model.cuda()"
      ],
      "execution_count": 42,
      "outputs": [
        {
          "output_type": "stream",
          "text": [
            "Net(\n",
            "  (conv1): Conv2d(3, 16, kernel_size=(3, 3), stride=(1, 1), padding=(1, 1))\n",
            "  (conv2): Conv2d(16, 32, kernel_size=(3, 3), stride=(1, 1), padding=(1, 1))\n",
            "  (conv3): Conv2d(32, 64, kernel_size=(3, 3), stride=(1, 1), padding=(1, 1))\n",
            "  (pool): MaxPool2d(kernel_size=2, stride=2, padding=0, dilation=1, ceil_mode=False)\n",
            "  (fc1): Linear(in_features=1024, out_features=500, bias=True)\n",
            "  (fc2): Linear(in_features=500, out_features=10, bias=True)\n",
            "  (dropout): Dropout(p=0.25, inplace=False)\n",
            ")\n"
          ],
          "name": "stdout"
        }
      ]
    },
    {
      "cell_type": "code",
      "metadata": {
        "id": "V5ysqO9gngbq",
        "colab_type": "code",
        "colab": {}
      },
      "source": [
        "# defining the criterion and optimizer\n",
        "criterion = nn.CrossEntropyLoss()\n",
        "optimizer = optim.SGD(model.parameters(), lr=0.01)"
      ],
      "execution_count": 43,
      "outputs": []
    },
    {
      "cell_type": "code",
      "metadata": {
        "id": "CotvdBJ9vbFw",
        "colab_type": "code",
        "colab": {
          "base_uri": "https://localhost:8080/",
          "height": 357
        },
        "outputId": "f15bb405-42c4-4212-eabf-f4fac9d7857b"
      },
      "source": [
        "epochs = 20\n",
        "train_losses , test_losses = [] , []\n",
        "for e in range(epochs):\n",
        "  running_loss = 0\n",
        "  for images , labels in train_data:\n",
        "    images, labels = images.cuda(), labels.cuda()\n",
        "    optimizer.zero_grad()\n",
        "    logits = model(images)\n",
        "    loss = criterion(logits , labels)\n",
        "    \n",
        "    loss.backward()\n",
        "    optimizer.step()\n",
        "    running_loss += loss.item()\n",
        "\n",
        "  else:\n",
        "    test_loss = 0\n",
        "    total = 0\n",
        "    correct = 0\n",
        "\n",
        "    with torch.no_grad():\n",
        "      model.eval()\n",
        "      for images , labels in test_data:\n",
        "        images, labels = images.cuda(), labels.cuda()\n",
        "        logits_test = model(images)\n",
        "        test_loss += criterion(logits_test , labels)\n",
        "        ps = torch.exp(logits_test)\n",
        "        _, predicted = ps.max(1)\n",
        "        total += labels.size(0)\n",
        "        correct += predicted.eq(labels).sum().item()\n",
        "\n",
        "    model.train()\n",
        "    train_losses.append(running_loss/len(trainloader))\n",
        "    test_losses.append(test_loss/len(testloader))\n",
        "\n",
        "    print(\"epochs {}/{}\" .format(e+1 , epochs),\n",
        "              \"training loss: {:.3f}..\".format(running_loss/len(train_data)),\n",
        "              \"test loss: {:.3f}..\".format(test_loss/len(test_data)),\n",
        "              \"test Accuracy: {:.3f}..\".format(correct/total))"
      ],
      "execution_count": 44,
      "outputs": [
        {
          "output_type": "stream",
          "text": [
            "epochs 1/20 training loss: 2.286.. test loss: 2.209.. test Accuracy: 0.234..\n",
            "epochs 2/20 training loss: 2.045.. test loss: 1.907.. test Accuracy: 0.311..\n",
            "epochs 3/20 training loss: 1.839.. test loss: 1.693.. test Accuracy: 0.382..\n",
            "epochs 4/20 training loss: 1.661.. test loss: 1.547.. test Accuracy: 0.431..\n",
            "epochs 5/20 training loss: 1.571.. test loss: 1.486.. test Accuracy: 0.454..\n",
            "epochs 6/20 training loss: 1.503.. test loss: 1.475.. test Accuracy: 0.461..\n",
            "epochs 7/20 training loss: 1.447.. test loss: 1.370.. test Accuracy: 0.502..\n",
            "epochs 8/20 training loss: 1.392.. test loss: 1.332.. test Accuracy: 0.513..\n",
            "epochs 9/20 training loss: 1.339.. test loss: 1.264.. test Accuracy: 0.548..\n",
            "epochs 10/20 training loss: 1.292.. test loss: 1.227.. test Accuracy: 0.566..\n",
            "epochs 11/20 training loss: 1.249.. test loss: 1.218.. test Accuracy: 0.569..\n",
            "epochs 12/20 training loss: 1.206.. test loss: 1.132.. test Accuracy: 0.601..\n",
            "epochs 13/20 training loss: 1.168.. test loss: 1.117.. test Accuracy: 0.604..\n",
            "epochs 14/20 training loss: 1.137.. test loss: 1.113.. test Accuracy: 0.600..\n",
            "epochs 15/20 training loss: 1.106.. test loss: 1.076.. test Accuracy: 0.615..\n",
            "epochs 16/20 training loss: 1.078.. test loss: 1.128.. test Accuracy: 0.606..\n",
            "epochs 17/20 training loss: 1.044.. test loss: 1.026.. test Accuracy: 0.639..\n",
            "epochs 18/20 training loss: 1.022.. test loss: 1.018.. test Accuracy: 0.646..\n",
            "epochs 19/20 training loss: 0.995.. test loss: 1.051.. test Accuracy: 0.627..\n",
            "epochs 20/20 training loss: 0.975.. test loss: 1.000.. test Accuracy: 0.651..\n"
          ],
          "name": "stdout"
        }
      ]
    },
    {
      "cell_type": "code",
      "metadata": {
        "id": "JV1SzjoIv_w7",
        "colab_type": "code",
        "colab": {}
      },
      "source": [
        "#visualisation\n",
        "test_loader = iter(test_data)\n",
        "images , labels = test_loader.next()\n"
      ],
      "execution_count": 74,
      "outputs": []
    },
    {
      "cell_type": "code",
      "metadata": {
        "id": "GiFcpjURQzsR",
        "colab_type": "code",
        "colab": {
          "base_uri": "https://localhost:8080/",
          "height": 34
        },
        "outputId": "bcee0626-f3c8-44d0-c1f6-89f3e7d9f07d"
      },
      "source": [
        "#shape of the image and type of the image\n",
        "images[0].shape"
      ],
      "execution_count": 75,
      "outputs": [
        {
          "output_type": "execute_result",
          "data": {
            "text/plain": [
              "torch.Size([3, 32, 32])"
            ]
          },
          "metadata": {
            "tags": []
          },
          "execution_count": 75
        }
      ]
    },
    {
      "cell_type": "code",
      "metadata": {
        "id": "cVfKSmUKYYr_",
        "colab_type": "code",
        "colab": {
          "base_uri": "https://localhost:8080/",
          "height": 300
        },
        "outputId": "dd90a750-9410-4d9d-c9ad-cb71a0d3ad30"
      },
      "source": [
        "images = images.cpu()\n",
        "plt.imshow(images[0].permute(1,2,0).numpy())\n",
        "print(classes[labels[0].numpy()])"
      ],
      "execution_count": 76,
      "outputs": [
        {
          "output_type": "stream",
          "text": [
            "Clipping input data to the valid range for imshow with RGB data ([0..1] for floats or [0..255] for integers).\n"
          ],
          "name": "stderr"
        },
        {
          "output_type": "stream",
          "text": [
            "cat\n"
          ],
          "name": "stdout"
        },
        {
          "output_type": "display_data",
          "data": {
            "image/png": "[encoded data removed]",
            "text/plain": [
              "<Figure size 432x288 with 1 Axes>"
            ]
          },
          "metadata": {
            "tags": [],
            "needs_background": "light"
          }
        }
      ]
    },
    {
      "cell_type": "code",
      "metadata": {
        "id": "a0t_mzi6nD0e",
        "colab_type": "code",
        "colab": {
          "base_uri": "https://localhost:8080/",
          "height": 35
        },
        "outputId": "9b848057-9f3b-46ab-94eb-f67b3db16558"
      },
      "source": [
        "model.eval()\n",
        "with torch.no_grad():\n",
        "  images = images.cuda()\n",
        "  out = model(images[0].reshape(1,3,32,32))\n",
        "  _ , h = out.max(1)\n",
        "classes[h]"
      ],
      "execution_count": 77,
      "outputs": [
        {
          "output_type": "execute_result",
          "data": {
            "application/vnd.google.colaboratory.intrinsic": {
              "type": "string"
            },
            "text/plain": [
              "'cat'"
            ]
          },
          "metadata": {
            "tags": []
          },
          "execution_count": 77
        }
      ]
    }
  ]
}